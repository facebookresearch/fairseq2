{
 "cells": [
  {
   "cell_type": "markdown",
   "metadata": {},
   "source": [
    "# ✎ HuggingFace Datasets Hub Integration\n",
    "\n",
    "## Overview\n",
    "\n",
    "> Prerequisite: make sure that you have installed fairseq2 with `pip install fairseq2[arrow]`. This will install additional packages required for parquet dataloader (_e.g._ pyarrow, retrying, polars, xxhash).\n"
   ]
  },
  {
   "cell_type": "code",
   "execution_count": 1,
   "metadata": {},
   "outputs": [],
   "source": [
    "from fairseq2.data.parquet.fragment_streaming import (\n",
    "    FragmentStreamingConfig, ParquetFragmentStreamer\n",
    ")\n",
    "from fairseq2.data.parquet.fragment_loading import (\n",
    "    FragmentLoadingConfig, ParquetFragmentLoader\n",
    ")\n",
    "\n",
    "from huggingface_hub import HfFileSystem\n",
    "hf_fs = HfFileSystem()  # init FileSystem interface for HF"
   ]
  },
  {
   "cell_type": "code",
   "execution_count": 2,
   "metadata": {},
   "outputs": [
    {
     "data": {
      "text/plain": [
       "['datasets/cais/mmlu/abstract_algebra/test-00000-of-00001.parquet',\n",
       " 'datasets/cais/mmlu/all/test-00000-of-00001.parquet',\n",
       " 'datasets/cais/mmlu/anatomy/test-00000-of-00001.parquet',\n",
       " 'datasets/cais/mmlu/astronomy/test-00000-of-00001.parquet',\n",
       " 'datasets/cais/mmlu/business_ethics/test-00000-of-00001.parquet',\n",
       " 'datasets/cais/mmlu/clinical_knowledge/test-00000-of-00001.parquet',\n",
       " 'datasets/cais/mmlu/college_biology/test-00000-of-00001.parquet',\n",
       " 'datasets/cais/mmlu/college_chemistry/test-00000-of-00001.parquet',\n",
       " 'datasets/cais/mmlu/college_computer_science/test-00000-of-00001.parquet',\n",
       " 'datasets/cais/mmlu/college_mathematics/test-00000-of-00001.parquet']"
      ]
     },
     "execution_count": 2,
     "metadata": {},
     "output_type": "execute_result"
    }
   ],
   "source": [
    "source_dataset_glob_path = \"datasets/cais/mmlu/*/*.parquet\"\n",
    "all_paths = hf_fs.glob(source_dataset_glob_path)  # taking all parquet files\n",
    "test_paths = [path for path in all_paths if \"test-\" in path]  # filtering manually the path since there's no proper hive partitionning\n",
    "test_paths[:10]"
   ]
  },
  {
   "cell_type": "code",
   "execution_count": 3,
   "metadata": {},
   "outputs": [],
   "source": [
    "fragment_config = FragmentStreamingConfig(\n",
    "    parquet_path=test_paths,\n",
    "    nb_epochs=1,\n",
    "    filesystem=hf_fs,\n",
    "    split_to_row_groups=True,\n",
    "    fragment_shuffle_window=0,  # no shuffling\n",
    "    files_circular_shift=False,\n",
    ")\n",
    "\n",
    "streamer = ParquetFragmentStreamer(config=fragment_config)\n",
    "\n",
    "# Create the loading config\n",
    "loading_config = FragmentLoadingConfig(\n",
    "    columns=None,\n",
    "    cache=False,\n",
    "    rename_columns=False,\n",
    "    add_fragment_traces=False,  # keeping only original columns\n",
    "    drop_null=False,  # Keep null values\n",
    "    nb_prefetch=1,  # Prefetch 2 fragments\n",
    "    num_parallel_fragments=4,  # Process 4 fragments in parallel\n",
    "    filters='pc.field(\"answer\") == 0',  # A dummy filter to select only samples with answer=0\n",
    ")\n",
    "\n",
    "# Build the loading pipeline\n",
    "loader = ParquetFragmentLoader(config=loading_config)\n",
    "\n",
    "fragment_pipeline = streamer.build_pipeline(0, 1)\n",
    "loading_pipeline = loader.apply(fragment_pipeline)\n",
    "result = list(iter(loading_pipeline.and_return()))"
   ]
  },
  {
   "cell_type": "code",
   "execution_count": 4,
   "metadata": {},
   "outputs": [
    {
     "data": {
      "text/plain": [
       "73"
      ]
     },
     "execution_count": 4,
     "metadata": {},
     "output_type": "execute_result"
    }
   ],
   "source": [
    "len(result)"
   ]
  },
  {
   "cell_type": "code",
   "execution_count": 5,
   "metadata": {},
   "outputs": [
    {
     "name": "stdout",
     "output_type": "stream",
     "text": [
      "[22, 220, 242, 208, 187, 211, 208, 264, 244, 255, 214, 230, 240, 239, 253, 7, 25, 27, 30, 57, 37, 20, 26, 21, 36, 22, 28, 62, 27, 35, 79, 36, 18, 55, 31, 25, 36, 35, 38, 79, 57, 50, 30, 105, 33, 51, 64, 70, 34, 29, 28, 36, 35, 18, 68, 30, 186, 86, 213, 69, 58, 70, 66, 246, 131, 50, 153, 24, 46, 49, 28, 47, 55]\n"
     ]
    }
   ],
   "source": [
    "print([len(x) for x in result])"
   ]
  },
  {
   "cell_type": "code",
   "execution_count": 6,
   "metadata": {},
   "outputs": [
    {
     "data": {
      "text/html": [
       "<div><style>\n",
       ".dataframe > thead > tr,\n",
       ".dataframe > tbody > tr {\n",
       "  text-align: right;\n",
       "  white-space: pre-wrap;\n",
       "}\n",
       "</style>\n",
       "<small>shape: (22, 4)</small><table border=\"1\" class=\"dataframe\"><thead><tr><th>question</th><th>subject</th><th>choices</th><th>answer</th></tr><tr><td>str</td><td>str</td><td>list[str]</td><td>i64</td></tr></thead><tbody><tr><td>&quot;Statement 1 | If a group has an element of order 15 it must have at least 8 elements of order 15. St…</td><td>&quot;abstract_algebra&quot;</td><td>[&quot;True, True&quot;, &quot;False, False&quot;, &quot;True, False&quot;, &quot;False, True&quot;]</td><td>0</td></tr><tr><td>&quot;Statement 1 | Every homomorphic image of a group G is isomorphic to a factor group of G. Statement 2…</td><td>&quot;abstract_algebra&quot;</td><td>[&quot;True, True&quot;, &quot;False, False&quot;, &quot;True, False&quot;, &quot;False, True&quot;]</td><td>0</td></tr><tr><td>&quot;Find the order of the factor group (Z_11 x Z_15)/(&lt;1, 1&gt;)&quot;</td><td>&quot;abstract_algebra&quot;</td><td>[&quot;1&quot;, &quot;2&quot;, &quot;5&quot;, &quot;11&quot;]</td><td>0</td></tr><tr><td>&quot;Statement 1| Every group of order p^2 where p is prime is Abelian. Statement 2 | For a fixed prime p…</td><td>&quot;abstract_algebra&quot;</td><td>[&quot;True, True&quot;, &quot;False, False&quot;, &quot;True, False&quot;, &quot;False, True&quot;]</td><td>0</td></tr><tr><td>&quot;Statement 1 | For finite groups G and H, |G + H| = |G||H|. (G + H is the internal direct product.) S…</td><td>&quot;abstract_algebra&quot;</td><td>[&quot;True, True&quot;, &quot;False, False&quot;, &quot;True, False&quot;, &quot;False, True&quot;]</td><td>0</td></tr><tr><td>&hellip;</td><td>&hellip;</td><td>&hellip;</td><td>&hellip;</td></tr><tr><td>&quot;Statement 1 | For every positive integer n there is a cyclic group of order n. Statement 2 | Every f…</td><td>&quot;abstract_algebra&quot;</td><td>[&quot;True, True&quot;, &quot;False, False&quot;, &quot;True, False&quot;, &quot;False, True&quot;]</td><td>0</td></tr><tr><td>&quot;Statement 1 | If H and K are subgroups of a group G, then |HK| = |H||K|/|H intersection K|. Statemen…</td><td>&quot;abstract_algebra&quot;</td><td>[&quot;True, True&quot;, &quot;False, False&quot;, &quot;True, False&quot;, &quot;False, True&quot;]</td><td>0</td></tr><tr><td>&quot;For T: Z x Z -&gt; Z where T(1, 0) = 3 and T(0, 1) = -5, find T(-3,2).&quot;</td><td>&quot;abstract_algebra&quot;</td><td>[&quot;-19&quot;, &quot;-10&quot;, &quot;19&quot;, &quot;10&quot;]</td><td>0</td></tr><tr><td>&quot;Compute the product in the given ring. (12)(16) in Z_24&quot;</td><td>&quot;abstract_algebra&quot;</td><td>[&quot;0&quot;, &quot;1&quot;, &quot;4&quot;, &quot;6&quot;]</td><td>0</td></tr><tr><td>&quot;Find the maximum possible order for an element of S_n for n = 6.&quot;</td><td>&quot;abstract_algebra&quot;</td><td>[&quot;6&quot;, &quot;12&quot;, &quot;30&quot;, &quot;105&quot;]</td><td>0</td></tr></tbody></table></div>"
      ],
      "text/plain": [
       "shape: (22, 4)\n",
       "┌───────────────────────────────────┬──────────────────┬──────────────────────────────────┬────────┐\n",
       "│ question                          ┆ subject          ┆ choices                          ┆ answer │\n",
       "│ ---                               ┆ ---              ┆ ---                              ┆ ---    │\n",
       "│ str                               ┆ str              ┆ list[str]                        ┆ i64    │\n",
       "╞═══════════════════════════════════╪══════════════════╪══════════════════════════════════╪════════╡\n",
       "│ Statement 1 | If a group has an   ┆ abstract_algebra ┆ [\"True, True\", \"False, False\",   ┆ 0      │\n",
       "│ element of order 15 it must have  ┆                  ┆ \"True, False\", \"False, True\"]    ┆        │\n",
       "│ at least 8 elements of order 15.  ┆                  ┆                                  ┆        │\n",
       "│ St…                               ┆                  ┆                                  ┆        │\n",
       "│ Statement 1 | Every homomorphic   ┆ abstract_algebra ┆ [\"True, True\", \"False, False\",   ┆ 0      │\n",
       "│ image of a group G is isomorphic  ┆                  ┆ \"True, False\", \"False, True\"]    ┆        │\n",
       "│ to a factor group of G. Statement ┆                  ┆                                  ┆        │\n",
       "│ 2…                                ┆                  ┆                                  ┆        │\n",
       "│ Find the order of the factor      ┆ abstract_algebra ┆ [\"1\", \"2\", \"5\", \"11\"]            ┆ 0      │\n",
       "│ group (Z_11 x Z_15)/(<1, 1>)      ┆                  ┆                                  ┆        │\n",
       "│ Statement 1| Every group of order ┆ abstract_algebra ┆ [\"True, True\", \"False, False\",   ┆ 0      │\n",
       "│ p^2 where p is prime is Abelian.  ┆                  ┆ \"True, False\", \"False, True\"]    ┆        │\n",
       "│ Statement 2 | For a fixed prime   ┆                  ┆                                  ┆        │\n",
       "│ p…                                ┆                  ┆                                  ┆        │\n",
       "│ Statement 1 | For finite groups G ┆ abstract_algebra ┆ [\"True, True\", \"False, False\",   ┆ 0      │\n",
       "│ and H, |G + H| = |G||H|. (G + H   ┆                  ┆ \"True, False\", \"False, True\"]    ┆        │\n",
       "│ is the internal direct product.)  ┆                  ┆                                  ┆        │\n",
       "│ S…                                ┆                  ┆                                  ┆        │\n",
       "│ …                                 ┆ …                ┆ …                                ┆ …      │\n",
       "│ Statement 1 | For every positive  ┆ abstract_algebra ┆ [\"True, True\", \"False, False\",   ┆ 0      │\n",
       "│ integer n there is a cyclic group ┆                  ┆ \"True, False\", \"False, True\"]    ┆        │\n",
       "│ of order n. Statement 2 | Every   ┆                  ┆                                  ┆        │\n",
       "│ f…                                ┆                  ┆                                  ┆        │\n",
       "│ Statement 1 | If H and K are      ┆ abstract_algebra ┆ [\"True, True\", \"False, False\",   ┆ 0      │\n",
       "│ subgroups of a group G, then |HK| ┆                  ┆ \"True, False\", \"False, True\"]    ┆        │\n",
       "│ = |H||K|/|H intersection K|.      ┆                  ┆                                  ┆        │\n",
       "│ Statemen…                         ┆                  ┆                                  ┆        │\n",
       "│ For T: Z x Z -> Z where T(1, 0) = ┆ abstract_algebra ┆ [\"-19\", \"-10\", \"19\", \"10\"]       ┆ 0      │\n",
       "│ 3 and T(0, 1) = -5, find T(-3,2). ┆                  ┆                                  ┆        │\n",
       "│ Compute the product in the given  ┆ abstract_algebra ┆ [\"0\", \"1\", \"4\", \"6\"]             ┆ 0      │\n",
       "│ ring. (12)(16) in Z_24            ┆                  ┆                                  ┆        │\n",
       "│ Find the maximum possible order   ┆ abstract_algebra ┆ [\"6\", \"12\", \"30\", \"105\"]         ┆ 0      │\n",
       "│ for an element of S_n for n = 6.  ┆                  ┆                                  ┆        │\n",
       "└───────────────────────────────────┴──────────────────┴──────────────────────────────────┴────────┘"
      ]
     },
     "execution_count": 6,
     "metadata": {},
     "output_type": "execute_result"
    }
   ],
   "source": [
    "# preview the result with Polars\n",
    "import polars as pl\n",
    "pl.Config.set_fmt_str_lengths(100)\n",
    "pl.Config.set_fmt_table_cell_list_len(200)\n",
    "pl.from_arrow(result[0])"
   ]
  }
 ],
 "metadata": {
  "kernelspec": {
   "display_name": "meres2025",
   "language": "python",
   "name": "python3"
  },
  "language_info": {
   "codemirror_mode": {
    "name": "ipython",
    "version": 3
   },
   "file_extension": ".py",
   "mimetype": "text/x-python",
   "name": "python",
   "nbconvert_exporter": "python",
   "pygments_lexer": "ipython3",
   "version": "3.11.11"
  }
 },
 "nbformat": 4,
 "nbformat_minor": 2
}
